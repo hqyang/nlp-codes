{
 "cells": [
  {
   "cell_type": "markdown",
   "id": "6c4b64a8",
   "metadata": {},
   "source": [
    "# Show examples of using stemming in nltk"
   ]
  },
  {
   "cell_type": "code",
   "execution_count": null,
   "id": "89564ef6",
   "metadata": {},
   "outputs": [
    {
     "name": "stderr",
     "output_type": "stream",
     "text": [
      "[nltk_data] Downloading package punkt_tab to\n",
      "[nltk_data]     /Users/hqyang/nltk_data...\n",
      "[nltk_data]   Unzipping tokenizers/punkt_tab.zip.\n"
     ]
    },
    {
     "ename": "ModuleNotFoundError",
     "evalue": "No module named 'stemming'",
     "output_type": "error",
     "traceback": [
      "\u001b[0;31m---------------------------------------------------------------------------\u001b[0m",
      "\u001b[0;31mModuleNotFoundError\u001b[0m                       Traceback (most recent call last)",
      "Cell \u001b[0;32mIn[1], line 3\u001b[0m\n\u001b[1;32m      1\u001b[0m \u001b[38;5;28;01mimport\u001b[39;00m \u001b[38;5;21;01mnltk\u001b[39;00m\n\u001b[1;32m      2\u001b[0m nltk\u001b[38;5;241m.\u001b[39mdownload(\u001b[38;5;124m'\u001b[39m\u001b[38;5;124mpunkt_tab\u001b[39m\u001b[38;5;124m'\u001b[39m)\n\u001b[0;32m----> 3\u001b[0m \u001b[38;5;28;01mfrom\u001b[39;00m \u001b[38;5;21;01mstemming\u001b[39;00m\u001b[38;5;21;01m.\u001b[39;00m\u001b[38;5;21;01mlovins\u001b[39;00m \u001b[38;5;28;01mimport\u001b[39;00m stem \u001b[38;5;28;01mas\u001b[39;00m lovins_stem\n\u001b[1;32m      4\u001b[0m \u001b[38;5;28;01mfrom\u001b[39;00m \u001b[38;5;21;01mstemming\u001b[39;00m\u001b[38;5;21;01m.\u001b[39;00m\u001b[38;5;21;01mporter2\u001b[39;00m \u001b[38;5;28;01mimport\u001b[39;00m stem \u001b[38;5;28;01mas\u001b[39;00m porter_stem\n\u001b[1;32m      5\u001b[0m \u001b[38;5;28;01mfrom\u001b[39;00m \u001b[38;5;21;01mnltk\u001b[39;00m\u001b[38;5;21;01m.\u001b[39;00m\u001b[38;5;21;01mtokenize\u001b[39;00m \u001b[38;5;28;01mimport\u001b[39;00m word_tokenize\n",
      "\u001b[0;31mModuleNotFoundError\u001b[0m: No module named 'stemming'"
     ]
    }
   ],
   "source": [
    "!pip install stemming \n",
    "import nltk\n",
    "nltk.download('punkt_tab')\n",
    "from stemming.lovins import stem as lovins_stem\n",
    "from stemming.porter2 import stem as porter_stem\n",
    "from nltk.tokenize import word_tokenize\n",
    "\n",
    "text = \"Love looks not with the eyes but with the mind, and therefore is winged Cupid painted blind.\"\n",
    "words = word_tokenize(text)\n",
    "lovins_stemmed_words = [lovins_stem(word) for word in words]\n",
    "porter_stemmed_words = [porter_stem(word) for word in words]\n",
    "\n",
    "print(\"Original words:\", words)\n",
    "print(\"Lovins stemmed words:\", lovins_stemmed_words)\n",
    "print(\"Porter stemmed words:\", porter_stemmed_words)"
   ]
  }
 ],
 "metadata": {
  "kernelspec": {
   "display_name": "py39",
   "language": "python",
   "name": "python3"
  },
  "language_info": {
   "codemirror_mode": {
    "name": "ipython",
    "version": 3
   },
   "file_extension": ".py",
   "mimetype": "text/x-python",
   "name": "python",
   "nbconvert_exporter": "python",
   "pygments_lexer": "ipython3",
   "version": "3.9.0"
  }
 },
 "nbformat": 4,
 "nbformat_minor": 5
}
