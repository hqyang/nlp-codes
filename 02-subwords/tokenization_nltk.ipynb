{
 "cells": [
  {
   "cell_type": "markdown",
   "id": "6c4b64a8",
   "metadata": {},
   "source": [
    "# Show examples of using stemming in nltk"
   ]
  },
  {
   "cell_type": "code",
   "execution_count": null,
   "id": "89564ef6",
   "metadata": {},
   "outputs": [
    {
     "name": "stdout",
     "output_type": "stream",
     "text": [
      "Requirement already satisfied: stemming in /Users/hqyang/anaconda3/envs/py39/lib/python3.9/site-packages (1.0.1)\n",
      "Original words: ['running', 'flies', 'happily', 'organization', 'better']\n",
      "Lovins stemmed words: ['run', 'fl', 'hap', 'organ', 'better']\n",
      "Porter stemmed words: ['run', 'fli', 'happili', 'organ', 'better']\n",
      "NLTK Porter stemmed words: ['run', 'fli', 'happili', 'organ', 'better']\n",
      "Lancaster stemmed words: ['run', 'fli', 'happy', 'org', 'bet']\n",
      "Snowball stemmed words: ['run', 'fli', 'happili', 'organ', 'better']\n"
     ]
    },
    {
     "name": "stderr",
     "output_type": "stream",
     "text": [
      "[nltk_data] Downloading package punkt_tab to\n",
      "[nltk_data]     /Users/hqyang/nltk_data...\n",
      "[nltk_data]   Package punkt_tab is already up-to-date!\n"
     ]
    }
   ],
   "source": [
    "!pip install stemming \n",
    "import nltk\n",
    "#nltk.download('punkt_tab')  # Download the punkt tokenizer models\n",
    "#from nltk.tokenize import word_tokenize, sent_tokenize\n",
    "\n",
    "from stemming.lovins import stem as lovins_stem\n",
    "from stemming.porter2 import stem as porter_stem\n",
    "\n",
    "from nltk.stem import PorterStemmer # Porter stemmer\n",
    "from nltk.stem import LancasterStemmer # Paice/Husk stemmer\n",
    "from nltk.stem import SnowballStemmer # support mutiple languages\n",
    "\n",
    "words = [\"running\", \"flies\", \"happily\", \"organization\", \"better\"]\n",
    "lovins_stemmed_words = [lovins_stem(word) for word in words]\n",
    "porter_stemmed_words = [porter_stem(word) for word in words]\n",
    "\n",
    "nltk_parter_stem = PorterStemmer()\n",
    "nltk_porter_stemmed_words = [nltk_parter_stem.stem(word) for word in words]\n",
    "\n",
    "\n",
    "lancaster = LancasterStemmer()\n",
    "lancaster_stemmed_words = [lancaster.stem(word) for word in words]\n",
    "\n",
    "# Initialize SnowballStemmer for English\n",
    "english_stemmer = SnowballStemmer(\"english\")\n",
    "snowball_stemmed_words = [english_stemmer.stem(word) for word in words]\n",
    "\n",
    "print(\"Original words:\", words)\n",
    "print(\"Lovins stemmed words:\", lovins_stemmed_words)\n",
    "print(\"Porter stemmed words:\", porter_stemmed_words)\n",
    "print(\"NLTK Porter stemmed words:\", nltk_porter_stemmed_words)\n",
    "print(\"Lancaster stemmed words:\", lancaster_stemmed_words)\n",
    "print(\"Snowball stemmed words:\", snowball_stemmed_words)    "
   ]
  }
 ],
 "metadata": {
  "kernelspec": {
   "display_name": "py39",
   "language": "python",
   "name": "python3"
  },
  "language_info": {
   "codemirror_mode": {
    "name": "ipython",
    "version": 3
   },
   "file_extension": ".py",
   "mimetype": "text/x-python",
   "name": "python",
   "nbconvert_exporter": "python",
   "pygments_lexer": "ipython3",
   "version": "3.9.0"
  }
 },
 "nbformat": 4,
 "nbformat_minor": 5
}
